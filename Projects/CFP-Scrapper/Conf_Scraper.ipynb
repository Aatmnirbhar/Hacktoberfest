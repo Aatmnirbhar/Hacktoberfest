{
  "nbformat": 4,
  "nbformat_minor": 0,
  "metadata": {
    "colab": {
      "name": "Conf_Scraper.ipynb",
      "provenance": [],
      "collapsed_sections": []
    },
    "kernelspec": {
      "name": "python3",
      "display_name": "Python 3"
    }
  },
  "cells": [
    {
      "cell_type": "code",
      "metadata": {
        "id": "G0Wvkfy7q_5d",
        "colab_type": "code",
        "colab": {
          "base_uri": "https://localhost:8080/",
          "height": 319
        },
        "outputId": "06dfe8c3-c79e-4188-8611-785a3f9afaab"
      },
      "source": [
        "!pip install git+https://github.com/alirezamika/autoscraper.git\n"
      ],
      "execution_count": 2,
      "outputs": [
        {
          "output_type": "stream",
          "text": [
            "Collecting git+https://github.com/alirezamika/autoscraper.git\n",
            "  Cloning https://github.com/alirezamika/autoscraper.git to /tmp/pip-req-build-554fysya\n",
            "  Running command git clone -q https://github.com/alirezamika/autoscraper.git /tmp/pip-req-build-554fysya\n",
            "Requirement already satisfied: requests in /usr/local/lib/python3.6/dist-packages (from autoscraper==1.0.4) (2.23.0)\n",
            "Requirement already satisfied: bs4 in /usr/local/lib/python3.6/dist-packages (from autoscraper==1.0.4) (0.0.1)\n",
            "Requirement already satisfied: lxml in /usr/local/lib/python3.6/dist-packages (from autoscraper==1.0.4) (4.2.6)\n",
            "Requirement already satisfied: idna<3,>=2.5 in /usr/local/lib/python3.6/dist-packages (from requests->autoscraper==1.0.4) (2.10)\n",
            "Requirement already satisfied: chardet<4,>=3.0.2 in /usr/local/lib/python3.6/dist-packages (from requests->autoscraper==1.0.4) (3.0.4)\n",
            "Requirement already satisfied: urllib3!=1.25.0,!=1.25.1,<1.26,>=1.21.1 in /usr/local/lib/python3.6/dist-packages (from requests->autoscraper==1.0.4) (1.24.3)\n",
            "Requirement already satisfied: certifi>=2017.4.17 in /usr/local/lib/python3.6/dist-packages (from requests->autoscraper==1.0.4) (2020.6.20)\n",
            "Requirement already satisfied: beautifulsoup4 in /usr/local/lib/python3.6/dist-packages (from bs4->autoscraper==1.0.4) (4.6.3)\n",
            "Building wheels for collected packages: autoscraper\n",
            "  Building wheel for autoscraper (setup.py) ... \u001b[?25l\u001b[?25hdone\n",
            "  Created wheel for autoscraper: filename=autoscraper-1.0.4-cp36-none-any.whl size=6502 sha256=6961aad0c5628ece8dbca7608aa88f3d3fe55f8055fb54e6c18722c331d56469\n",
            "  Stored in directory: /tmp/pip-ephem-wheel-cache-ol5kxs5_/wheels/c5/5f/a4/7f181e331bcece27dcb9f1c88b250235d2021a895a27804614\n",
            "Successfully built autoscraper\n",
            "Installing collected packages: autoscraper\n",
            "Successfully installed autoscraper-1.0.4\n"
          ],
          "name": "stdout"
        }
      ]
    },
    {
      "cell_type": "code",
      "metadata": {
        "id": "tbPZqdAsGbnx",
        "colab_type": "code",
        "colab": {}
      },
      "source": [
        ""
      ],
      "execution_count": null,
      "outputs": []
    },
    {
      "cell_type": "code",
      "metadata": {
        "id": "LPi3CUCgrsK6",
        "colab_type": "code",
        "colab": {}
      },
      "source": [
        "from autoscraper import AutoScraper\n",
        "\n",
        "url = 'http://wikicfp.com/cfp/call?conference=medical%20imaging&page=2'\n",
        "category = ['Event']\n"
      ],
      "execution_count": 20,
      "outputs": []
    },
    {
      "cell_type": "code",
      "metadata": {
        "id": "qgM1gqq2sJCZ",
        "colab_type": "code",
        "colab": {
          "base_uri": "https://localhost:8080/",
          "height": 34
        },
        "outputId": "16eaf80f-a2cd-4d10-c1fa-030bcd2f14fb"
      },
      "source": [
        "scrape = AutoScraper()\n",
        "final = scrape.build(url, category)\n",
        "print(final[])"
      ],
      "execution_count": 26,
      "outputs": [
        {
          "output_type": "stream",
          "text": [
            "DeepLearning CAD 2018\n"
          ],
          "name": "stdout"
        }
      ]
    },
    {
      "cell_type": "code",
      "metadata": {
        "id": "wh9Ahj0askoE",
        "colab_type": "code",
        "colab": {
          "base_uri": "https://localhost:8080/",
          "height": 655
        },
        "outputId": "fa22a744-980c-4d12-ddd9-97506e1197ba"
      },
      "source": [
        "for i in range(6,len(final),5):\n",
        "  print(final[i]+'\\n')"
      ],
      "execution_count": 27,
      "outputs": [
        {
          "output_type": "stream",
          "text": [
            "IPMI 2019\n",
            "\n",
            "DeepLearning CAD 2018\n",
            "\n",
            "IECBES 2018\n",
            "\n",
            "DICTA 2018\n",
            "\n",
            "ICMT 2018\n",
            "\n",
            "CLIP 2018\n",
            "\n",
            "GRAIL 2018\n",
            "\n",
            "LABELS 2018\n",
            "\n",
            "Sep 13, 2018 - Sep 14, 2018\n",
            "\n",
            "Jun 18, 2018 - Jun 21, 2018\n",
            "\n",
            "N/A\n",
            "\n",
            "Thessaloniki, Greece\n",
            "\n",
            "Funchal, Madeira\n",
            "\n",
            "CLIP 2017\n",
            "\n",
            "GRAIL 2017\n",
            "\n",
            "8th International Workshop on Machine Learning in Medical Imaging (MLMI 2017)\n",
            "\n",
            "Jul 11, 2017 - Jul 13, 2017\n",
            "\n",
            "Appalachian State University, Boone, NC\n",
            "\n",
            "Dec 14, 2016\n",
            "\n"
          ],
          "name": "stdout"
        }
      ]
    },
    {
      "cell_type": "markdown",
      "metadata": {
        "id": "lrS-Lm_VLZAK",
        "colab_type": "text"
      },
      "source": [
        "# **Main Code Begins Here --** "
      ]
    },
    {
      "cell_type": "code",
      "metadata": {
        "id": "N0FeGo8PI5gA",
        "colab_type": "code",
        "colab": {}
      },
      "source": [
        "import pandas as pd\n",
        "import numpy as np"
      ],
      "execution_count": 29,
      "outputs": []
    },
    {
      "cell_type": "code",
      "metadata": {
        "id": "Ex1VMXx4tamp",
        "colab_type": "code",
        "colab": {}
      },
      "source": [
        "single_topics = ['5G','aerospace','automation','blockchain','bussiness','cancer','economics']\n",
        "double_topics = [['medical','imaging'],['fuzzy','systems']]\n",
        "\n",
        "events = []\n",
        "category=['Event']\n",
        "\n",
        "#Scraping the first 5 pages\n",
        "pages = np.arange(1,5,1)\n",
        "\n",
        "for i in range(len(single_topics)):\n",
        "  \n",
        "  #Scraping the first 5 pages \n",
        "  for page in pages:\n",
        "      url = 'http://wikicfp.com/cfp/call?conference='+str(single_topics[i])+'&page='+str(page)\n",
        "      scrape = AutoScraper()\n",
        "      final = scrape.build(url, category)\n",
        "\n",
        "      for j in range(6,len(final),5):\n",
        "        events.append(final[j])\n",
        "      \n",
        "  df = pd.DataFrame({\n",
        "      'Name of Event' : events\n",
        "        })\n",
        "  df.to_csv(str(single_topics[i])+'_events.csv')\n",
        "\n",
        "\n",
        "\n"
      ],
      "execution_count": 32,
      "outputs": []
    },
    {
      "cell_type": "code",
      "metadata": {
        "id": "MdTHQnCgI4S4",
        "colab_type": "code",
        "colab": {}
      },
      "source": [
        ""
      ],
      "execution_count": null,
      "outputs": []
    }
  ]
}